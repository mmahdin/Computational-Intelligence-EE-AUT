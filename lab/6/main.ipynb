{
 "cells": [
  {
   "cell_type": "code",
   "execution_count": 489,
   "metadata": {},
   "outputs": [],
   "source": [
    "import numpy as np\n",
    "import matplotlib.pyplot as plt\n",
    "import random\n",
    "%matplotlib inline"
   ]
  },
  {
   "cell_type": "markdown",
   "metadata": {},
   "source": [
    "## 1 (آ، ب، ج)"
   ]
  },
  {
   "cell_type": "code",
   "execution_count": 490,
   "metadata": {},
   "outputs": [
    {
     "name": "stdout",
     "output_type": "stream",
     "text": [
      "Recalled pattern: [0 0 1 1]\n",
      "Energy of recalled state: -6.0\n",
      "--------------------------------------------\n",
      "Recalling pattern...\n",
      "Recalled pattern: [-1 -1  1  1]\n",
      "Energy of recalled state: -6.0\n",
      "--------------------------------------------\n",
      "Recalling pattern...\n",
      "Recalled pattern: [ 1  1 -1 -1]\n",
      "Energy of recalled state: -6.0\n"
     ]
    }
   ],
   "source": [
    "class HopfieldNetwork:\n",
    "    def __init__(self, num_neurons):\n",
    "        self.num_neurons = num_neurons\n",
    "        self.weights = np.zeros((num_neurons, num_neurons))\n",
    "\n",
    "    # Hebbian learning rule for training\n",
    "    def train(self, patterns):\n",
    "        num_patterns = len(patterns)\n",
    "        for p in patterns:\n",
    "            p = p.reshape(self.num_neurons, 1)\n",
    "            self.weights += p @ p.T\n",
    "        # Set diagonal to 0 (no neuron is connected to itself)\n",
    "        np.fill_diagonal(self.weights, 0)\n",
    "        self.weights /= num_patterns\n",
    "\n",
    "    # Function to update state of the neurons\n",
    "    def recall(self, pattern, steps=5):\n",
    "        state = pattern.copy()\n",
    "        for _ in range(steps):\n",
    "            # Update each neuron asynchronously\n",
    "            for i in range(self.num_neurons):\n",
    "                net_input = np.dot(self.weights[i], state)\n",
    "                state[i] = 1 if net_input >= 0 else -1\n",
    "        return state\n",
    "\n",
    "    # Energy function\n",
    "    def energy(self, state):\n",
    "        return -0.5 * np.sum(self.weights * np.outer(state, state))\n",
    "\n",
    "# Convert [0,0,1,1] to [-1,-1,1,1] for Hopfield\n",
    "def binary_to_bipolar(binary_pattern):\n",
    "    return np.array([1 if x == 1 else -1 for x in binary_pattern])\n",
    "\n",
    "# Convert [-1,-1,1,1] back to [0,0,1,1]\n",
    "def bipolar_to_binary(bipolar_pattern):\n",
    "    return np.array([1 if x == 1 else 0 for x in bipolar_pattern])\n",
    "\n",
    "# Define the pattern [0, 0, 1, 1] and convert it to bipolar\n",
    "pattern = binary_to_bipolar([0, 0, 1, 1])\n",
    "hopfield_net = HopfieldNetwork(num_neurons=4)\n",
    "hopfield_net.train([pattern])\n",
    "test_pattern1 = binary_to_bipolar([0, 0, 1, 0])  # A noisy version of the pattern\n",
    "recalled_pattern1 = hopfield_net.recall(test_pattern1)\n",
    "recalled_pattern_binary1 = bipolar_to_binary(recalled_pattern1)\n",
    "print(\"Recalled pattern:\", recalled_pattern_binary1)\n",
    "energy1 = hopfield_net.energy(recalled_pattern1)\n",
    "print(\"Energy of recalled state:\", energy1)\n",
    "\n",
    "# Define the pattern [-1, -1, 1, 1]\n",
    "print('--------------------------------------------')\n",
    "pattern = np.array([-1, -1, 1, 1])\n",
    "hopfield_net = HopfieldNetwork(num_neurons=4)\n",
    "hopfield_net.train([pattern])\n",
    "test_pattern = np.array([-1, -1, 1, -1])  # A noisy version of the pattern\n",
    "print(\"Recalling pattern...\")\n",
    "recalled_pattern = hopfield_net.recall(test_pattern)\n",
    "print(\"Recalled pattern:\", recalled_pattern)\n",
    "energy = hopfield_net.energy(recalled_pattern)\n",
    "print(\"Energy of recalled state:\", energy)\n",
    "\n",
    "# Define the patterns [1, 1, -1, -1] and [-1, -1, 1, 1]\n",
    "print('--------------------------------------------')\n",
    "pattern1 = np.array([1, 1, -1, -1])\n",
    "pattern2 = np.array([-1, -1, 1, 1])\n",
    "hopfield_net = HopfieldNetwork(num_neurons=4)\n",
    "hopfield_net.train([pattern1, pattern2])\n",
    "test_pattern = np.array([1, 1, -1, 1])  # A noisy version of pattern1\n",
    "print(\"Recalling pattern...\")\n",
    "recalled_pattern = hopfield_net.recall(test_pattern)\n",
    "print(\"Recalled pattern:\", recalled_pattern)\n",
    "energy = hopfield_net.energy(recalled_pattern)\n",
    "print(\"Energy of recalled state:\", energy)\n"
   ]
  },
  {
   "cell_type": "markdown",
   "metadata": {},
   "source": [
    "## 1 (د)"
   ]
  },
  {
   "cell_type": "code",
   "execution_count": 491,
   "metadata": {},
   "outputs": [
    {
     "name": "stdout",
     "output_type": "stream",
     "text": [
      "Initial state: [-1 -1 -1 -1]\n",
      "Recalled pattern: [1 1 1 1]\n",
      "Energy of recalled state: -0.0\n"
     ]
    }
   ],
   "source": [
    "# Given weight matrix\n",
    "W = np.array([[0,  0,  1, -1],\n",
    "              [1,  0,  1, -1],\n",
    "              [1,  1,  0, -1],\n",
    "              [-1, -1, -1, 0]])\n",
    "\n",
    "hopfield_net = HopfieldNetwork(W.shape[0])\n",
    "\n",
    "# Start from a random initial state to extract the stored pattern\n",
    "initial_state = np.array([-1, -1, -1, -1])  # Example of a random starting state\n",
    "\n",
    "print(\"Initial state:\", initial_state)\n",
    "\n",
    "# Recall the stored pattern\n",
    "recalled_pattern = hopfield_net.recall(initial_state)\n",
    "\n",
    "print(\"Recalled pattern:\", recalled_pattern)\n",
    "\n",
    "# Calculate energy of the recalled state\n",
    "energy = hopfield_net.energy(recalled_pattern)\n",
    "print(\"Energy of recalled state:\", energy)"
   ]
  },
  {
   "cell_type": "code",
   "execution_count": 492,
   "metadata": {},
   "outputs": [
    {
     "name": "stdout",
     "output_type": "stream",
     "text": [
      "Original and Recalled Patterns for letter B:\n"
     ]
    },
    {
     "data": {
      "image/png": "[encoded data removed]",
      "text/plain": [
       "<Figure size 1000x300 with 3 Axes>"
      ]
     },
     "metadata": {},
     "output_type": "display_data"
    },
    {
     "name": "stdout",
     "output_type": "stream",
     "text": [
      "Original and Recalled Patterns for letter D:\n"
     ]
    },
    {
     "data": {
      "image/png": "[encoded data removed]",
      "text/plain": [
       "<Figure size 1000x300 with 3 Axes>"
      ]
     },
     "metadata": {},
     "output_type": "display_data"
    },
    {
     "name": "stdout",
     "output_type": "stream",
     "text": [
      "Original and Recalled Patterns for letter K:\n"
     ]
    },
    {
     "data": {
      "image/png": "[encoded data removed]",
      "text/plain": [
       "<Figure size 1000x300 with 3 Axes>"
      ]
     },
     "metadata": {},
     "output_type": "display_data"
    }
   ],
   "source": [
    "# Step 1: Define Hopfield network\n",
    "class HopfieldNetwork:\n",
    "    def __init__(self, num_neurons):\n",
    "        self.num_neurons = num_neurons\n",
    "        self.weights = np.zeros((num_neurons, num_neurons))  # Weight matrix initialization\n",
    "\n",
    "    def train(self, patterns):\n",
    "        \"\"\" Train the Hopfield network using Hebbian learning rule \"\"\"\n",
    "        for p in patterns:\n",
    "            p = p.reshape(-1, 1)  # Reshape pattern as a column vector\n",
    "            self.weights += np.dot(p, p.T)  # Hebbian learning\n",
    "        np.fill_diagonal(self.weights, 0)  # No self-connections\n",
    "\n",
    "    def recall(self, pattern, steps=50):\n",
    "        \"\"\" Recall a pattern by running the network \"\"\"\n",
    "        output = pattern.copy()\n",
    "        for _ in range(steps):\n",
    "            for i in range(self.num_neurons):\n",
    "                net_input = np.dot(self.weights[i], output)\n",
    "                output[i] = 1 if net_input >= 0 else -1\n",
    "        return output\n",
    "\n",
    "    def add_noise(self, pattern, noise_level=0.2):\n",
    "        noisy_pattern = pattern.copy()\n",
    "        num_flips = int(len(noisy_pattern) * noise_level)\n",
    "        \n",
    "        # Select random indices to flip\n",
    "        flip_indices = random.sample(range(len(noisy_pattern)), num_flips)\n",
    "        \n",
    "        # Flip the selected indices\n",
    "        for idx in flip_indices:\n",
    "            noisy_pattern[idx] *= -1  # Flip the bit (1 to -1 or -1 to 1)\n",
    "        \n",
    "        return noisy_pattern\n",
    "\n",
    "# Step 2: Define letter patterns (Here we use simplified binary arrays to represent letters)\n",
    "def create_letter_patterns():\n",
    "    # Letter 'ب' (B) - A 5x5 representation\n",
    "    letter_B = np.array([\n",
    "        [0,0,0,0,0,0,0,0],\n",
    "        [0,0,0,0,0,0,0,0],\n",
    "        [0,0,0,0,0,0,0,0],\n",
    "        [1,0,0,0,0,0,0,1],\n",
    "        [1,1,1,1,1,1,1,1],\n",
    "        [0,0,0,0,0,0,0,0],\n",
    "        [0,0,0,0,1,0,0,0],\n",
    "        [0,0,0,0,0,0,0,0],\n",
    "        [0,0,0,0,0,0,0,0]\n",
    "    ])\n",
    "\n",
    "    # Letter 'د' (D) - A 5x5 representation\n",
    "    letter_D = np.array([\n",
    "        [0,0,0,0,0,0,0,0],\n",
    "        [0,0,0,1,1,0,0,0],\n",
    "        [0,0,0,0,1,1,0,0],\n",
    "        [0,0,0,0,0,1,1,0],\n",
    "        [0,0,0,0,0,0,1,1],\n",
    "        [0,0,0,0,0,1,1,0],\n",
    "        [0,0,0,0,1,1,0,0],\n",
    "        [0,0,0,1,1,0,0,0],\n",
    "        [0,0,0,0,0,0,0,0]\n",
    "    ])\n",
    "\n",
    "    # Letter 'ک' (K) - A 5x5 representation\n",
    "    letter_K = np.array([\n",
    "        [0,0,0,0,0,0,0,1],\n",
    "        [0,0,0,0,0,0,1,0],\n",
    "        [0,0,0,0,0,1,0,0],\n",
    "        [0,0,0,0,1,0,0,0],\n",
    "        [0,0,0,0,1,0,0,0],\n",
    "        [0,0,0,0,1,0,0,0],\n",
    "        [0,0,0,0,1,0,0,0],\n",
    "        [1,0,0,0,1,0,0,0],\n",
    "        [1,1,1,1,1,0,0,0]\n",
    "        \n",
    "\n",
    "    ])\n",
    "\n",
    "    # Convert to bipolar (-1, 1)\n",
    "    letter_B = letter_B * 2 - 1\n",
    "    letter_D = letter_D * 2 - 1\n",
    "    letter_K = letter_K * 2 - 1\n",
    "\n",
    "    return letter_B.flatten(), letter_D.flatten(), letter_K.flatten()\n",
    "\n",
    "# Step 3: Store the letters in the Hopfield network\n",
    "letter_B, letter_D, letter_K = create_letter_patterns()\n",
    "letters = np.array([letter_B, letter_D, letter_K])\n",
    "\n",
    "num_neurons = len(letter_B) \n",
    "hopfield_net = HopfieldNetwork(num_neurons=num_neurons)\n",
    "hopfield_net.train(letters)\n",
    "\n",
    "# Step 4: Add noise to the patterns (20% noise)\n",
    "noisy_B = hopfield_net.add_noise(letter_B, noise_level=0.2)\n",
    "noisy_D = hopfield_net.add_noise(letter_D, noise_level=0.2)\n",
    "noisy_K = hopfield_net.add_noise(letter_K, noise_level=0.2)\n",
    "\n",
    "# Step 5: Recall the patterns from the noisy inputs\n",
    "recalled_B = hopfield_net.recall(noisy_B)\n",
    "recalled_D = hopfield_net.recall(noisy_D)\n",
    "recalled_K = hopfield_net.recall(noisy_K)\n",
    "\n",
    "# Step 6: Function to display patterns\n",
    "def display_pattern(patterns, titles, shape=(9, 8)):\n",
    "    plt.figure(figsize=(10, 3))  # Create a figure with appropriate size for subplots\n",
    "    for i in range(len(patterns)):\n",
    "        plt.subplot(1, len(patterns), i+1)  # Adjust the number of subplots dynamically\n",
    "        plt.imshow(patterns[i].reshape(shape), cmap='gray')  # Reshape to 9x8 for the letters\n",
    "        plt.title(titles[i])  # Add the title for each subplot\n",
    "        plt.axis('off')  # Hide the axis for better display\n",
    "    \n",
    "    plt.tight_layout()  # Adjust spacing to avoid overlap\n",
    "    plt.show()  # Show all subplots together\n",
    "\n",
    "# Step 7: Display original, noisy, and recalled patterns for 'B', 'D', and 'K'\n",
    "print(\"Original and Recalled Patterns for letter B:\")\n",
    "display_pattern([letter_B, noisy_B, recalled_B], [\"Original 'ب'\", \"Noisy 'ب'\", \"Recalled 'ب'\"])\n",
    "\n",
    "print(\"Original and Recalled Patterns for letter D:\")\n",
    "display_pattern([letter_D, noisy_D, recalled_D], [\"Original 'د'\", \"Noisy 'د'\", \"Recalled 'د'\"])\n",
    "\n",
    "print(\"Original and Recalled Patterns for letter K:\")\n",
    "display_pattern([letter_K, noisy_K, recalled_K], [\"Original 'ک'\", \"Noisy 'ک'\", \"Recalled 'ک'\"])\n"
   ]
  },
  {
   "cell_type": "markdown",
   "metadata": {},
   "source": [
    "# Practice"
   ]
  },
  {
   "cell_type": "markdown",
   "metadata": {},
   "source": [
    "# 1"
   ]
  },
  {
   "cell_type": "code",
   "execution_count": 493,
   "metadata": {},
   "outputs": [
    {
     "name": "stdout",
     "output_type": "stream",
     "text": [
      "Original and Recalled Patterns for letter B:\n"
     ]
    },
    {
     "data": {
      "image/png": "[encoded data removed]",
      "text/plain": [
       "<Figure size 1000x300 with 3 Axes>"
      ]
     },
     "metadata": {},
     "output_type": "display_data"
    },
    {
     "name": "stdout",
     "output_type": "stream",
     "text": [
      "Original and Recalled Patterns for letter D:\n"
     ]
    },
    {
     "data": {
      "image/png": "[encoded data removed]",
      "text/plain": [
       "<Figure size 1000x300 with 3 Axes>"
      ]
     },
     "metadata": {},
     "output_type": "display_data"
    }
   ],
   "source": [
    "letter_g = np.array([\n",
    "    [0,0,0,0,0,0,0,0],\n",
    "    [0,0,0,0,0,0,0,0],\n",
    "    [0,0,0,0,0,0,0,0],\n",
    "    [1,0,0,0,0,0,0,1],\n",
    "    [1,1,1,1,1,1,1,1],\n",
    "    [0,0,0,0,0,0,0,0],\n",
    "    [0,0,0,1,1,0,0,0],\n",
    "    [0,0,0,1,0,0,0,0],\n",
    "    [0,0,0,0,0,0,0,0]\n",
    "])\n",
    "letter_p = np.array([\n",
    "    [0,0,0,0,1,0,0,1],\n",
    "    [0,0,0,1,0,0,1,0],\n",
    "    [0,0,0,0,0,1,0,0],\n",
    "    [0,0,0,0,1,0,0,0],\n",
    "    [0,0,0,0,1,0,0,0],\n",
    "    [0,0,0,0,1,0,0,0],\n",
    "    [0,0,0,0,1,0,0,0],\n",
    "    [1,0,0,0,1,0,0,0],\n",
    "    [1,1,1,1,1,0,0,0]\n",
    "])\n",
    "\n",
    "# Convert to bipolar (-1, 1)\n",
    "letter_g = (letter_g * 2 - 1).flatten()\n",
    "letter_p = (letter_p * 2 - 1).flatten()\n",
    "\n",
    "letters = np.array([letter_g, letter_p])\n",
    "\n",
    "num_neurons = len(letter_p) \n",
    "hopfield_hopfield_netnet = HopfieldNetwork(num_neurons=num_neurons)\n",
    "hopfield_net.train(letters)\n",
    "\n",
    "# Step 4: Add noise to the patterns (20% noise)\n",
    "noisy_g = hopfield_net.add_noise(letter_g, noise_level=0.4)\n",
    "noisy_p = hopfield_net.add_noise(letter_p, noise_level=0.4)\n",
    "\n",
    "# Step 5: Recall the patterns from the noisy inputs\n",
    "recalled_g = hopfield_net.recall(noisy_g)\n",
    "recalled_p = hopfield_net.recall(noisy_p)\n",
    "\n",
    "print(\"Original and Recalled Patterns for letter B:\")\n",
    "display_pattern([letter_g, noisy_g, recalled_g], [\"Original 'گ'\", \"Noisy 'گ'\", \"Recalled 'گ'\"])\n",
    "\n",
    "print(\"Original and Recalled Patterns for letter D:\")\n",
    "display_pattern([letter_p, noisy_p, recalled_p], [\"Original 'پ'\", \"Noisy 'پ'\", \"Recalled 'پ'\"])\n"
   ]
  },
  {
   "cell_type": "markdown",
   "metadata": {},
   "source": [
    "<div dir='rtl'>\n",
    "نمیتواند بازیابی کند.\n",
    "</div>"
   ]
  },
  {
   "cell_type": "markdown",
   "metadata": {},
   "source": [
    "# 4"
   ]
  },
  {
   "cell_type": "markdown",
   "metadata": {},
   "source": [
    "## make dataset"
   ]
  },
  {
   "cell_type": "code",
   "execution_count": 494,
   "metadata": {},
   "outputs": [
    {
     "data": {
      "image/png": "[encoded data removed]",
      "text/plain": [
       "<Figure size 1000x300 with 10 Axes>"
      ]
     },
     "metadata": {},
     "output_type": "display_data"
    }
   ],
   "source": [
    "digit_0 = np.array([\n",
    "  [0,1,1,1,1,1,1,1,1,0],\n",
    "  [1,1,1,1,1,1,1,1,1,1],\n",
    "  [1,1,1,0,0,0,0,1,1,1],\n",
    "  [1,1,1,0,0,0,0,1,1,1],\n",
    "  [1,1,1,0,0,0,0,1,1,1],\n",
    "  [1,1,1,0,0,0,0,1,1,1],\n",
    "  [1,1,1,0,0,0,0,1,1,1],\n",
    "  [1,1,1,0,0,0,0,1,1,1],\n",
    "  [1,1,1,1,1,1,1,1,1,1],\n",
    "  [0,1,1,1,1,1,1,1,1,0]\n",
    "])\n",
    "\n",
    "digit_1 = np.array([\n",
    "  [0,0,0,0,1,1,1,0,0,0],\n",
    "  [0,0,1,1,1,1,1,0,0,0],\n",
    "  [0,1,1,0,1,1,1,0,0,0],\n",
    "  [0,0,0,0,1,1,1,0,0,0],\n",
    "  [0,0,0,0,1,1,1,0,0,0],\n",
    "  [0,0,0,0,1,1,1,0,0,0],\n",
    "  [0,0,0,0,1,1,1,0,0,0],\n",
    "  [0,0,0,0,1,1,1,0,0,0],\n",
    "  [0,0,0,0,1,1,1,0,0,0],\n",
    "  [1,1,1,1,1,1,1,1,1,1]\n",
    "])\n",
    "\n",
    "digit_2 = np.array([\n",
    "  [0,1,1,1,1,1,1,1,1,0],\n",
    "  [1,1,1,1,1,1,1,1,1,1],\n",
    "  [1,1,1,0,0,0,0,1,1,1],\n",
    "  [0,0,0,0,0,0,1,1,1,1],\n",
    "  [0,0,0,0,0,1,1,1,1,0],\n",
    "  [0,0,0,0,1,1,1,1,0,0],\n",
    "  [0,0,0,1,1,1,0,0,0,0],\n",
    "  [0,0,1,1,1,0,0,0,0,0],\n",
    "  [1,1,1,1,1,1,1,1,1,1],\n",
    "  [1,1,1,1,1,1,1,1,1,1]\n",
    "])\n",
    "\n",
    "digit_3 = np.array([\n",
    "  [0,1,1,1,1,1,1,1,1,0],\n",
    "  [1,1,1,1,1,1,1,1,1,1],\n",
    "  [1,1,1,0,0,0,0,1,1,1],\n",
    "  [0,0,0,0,0,0,1,1,1,1],\n",
    "  [0,0,0,0,1,1,1,1,0,0],\n",
    "  [0,0,0,0,0,0,1,1,1,1],\n",
    "  [1,1,1,0,0,0,0,1,1,1],\n",
    "  [1,1,1,0,0,0,0,1,1,1],\n",
    "  [1,1,1,1,1,1,1,1,1,1],\n",
    "  [0,1,1,1,1,1,1,1,1,0]\n",
    "])\n",
    "\n",
    "digit_4 = np.array([\n",
    "  [0,0,0,0,1,1,1,1,0,0],\n",
    "  [0,0,0,1,1,1,1,1,0,0],\n",
    "  [0,0,1,1,1,1,1,1,0,0],\n",
    "  [0,1,1,0,1,1,1,1,0,0],\n",
    "  [1,1,0,0,1,1,1,1,0,0],\n",
    "  [1,1,1,1,1,1,1,1,1,1],\n",
    "  [0,0,0,0,0,1,1,1,0,0],\n",
    "  [0,0,0,0,0,1,1,1,0,0],\n",
    "  [0,0,0,0,0,1,1,1,0,0],\n",
    "  [0,0,0,0,0,1,1,1,0,0]\n",
    "])\n",
    "\n",
    "digit_5 = np.array([\n",
    "  [1,1,1,1,1,1,1,1,1,1],\n",
    "  [1,1,1,1,1,1,1,1,1,1],\n",
    "  [1,1,1,0,0,0,0,0,0,0],\n",
    "  [1,1,1,1,1,1,1,1,1,0],\n",
    "  [1,1,1,1,1,1,1,1,1,1],\n",
    "  [0,0,0,0,0,0,0,1,1,1],\n",
    "  [0,0,0,0,0,0,0,1,1,1],\n",
    "  [1,1,1,0,0,0,0,1,1,1],\n",
    "  [1,1,1,1,1,1,1,1,1,1],\n",
    "  [0,1,1,1,1,1,1,1,1,0]\n",
    "])\n",
    "\n",
    "digit_6 = np.array([\n",
    "  [0,0,1,1,1,1,1,1,0,0],\n",
    "  [0,1,1,1,1,1,1,1,1,1],\n",
    "  [1,1,1,0,0,0,0,0,0,0],\n",
    "  [1,1,1,1,1,1,1,1,1,0],\n",
    "  [1,1,1,1,1,1,1,1,1,1],\n",
    "  [1,1,1,0,0,0,0,1,1,1],\n",
    "  [1,1,1,0,0,0,0,1,1,1],\n",
    "  [1,1,1,0,0,0,0,1,1,1],\n",
    "  [0,1,1,1,1,1,1,1,1,1],\n",
    "  [0,0,1,1,1,1,1,1,0,0]\n",
    "])\n",
    "\n",
    "digit_7 = np.array([\n",
    "  [1,1,1,1,1,1,1,1,1,1],\n",
    "  [1,1,1,1,1,1,1,1,1,1],\n",
    "  [0,0,0,0,0,0,1,1,1,1],\n",
    "  [0,0,0,0,0,0,1,1,1,0],\n",
    "  [0,0,0,0,0,1,1,1,0,0],\n",
    "  [0,0,0,0,0,1,1,1,0,0],\n",
    "  [0,0,0,0,1,1,1,0,0,0],\n",
    "  [0,0,0,0,1,1,1,0,0,0],\n",
    "  [0,0,0,1,1,1,0,0,0,0],\n",
    "  [0,0,0,1,1,1,0,0,0,0]\n",
    "])\n",
    "\n",
    "digit_8 = np.array([\n",
    "  [0,1,1,1,1,1,1,1,1,0],\n",
    "  [1,1,1,1,1,1,1,1,1,1],\n",
    "  [1,1,1,0,0,0,0,1,1,1],\n",
    "  [1,1,1,0,0,0,0,1,1,1],\n",
    "  [0,1,1,1,1,1,1,1,1,0],\n",
    "  [1,1,1,0,0,0,0,1,1,1],\n",
    "  [1,1,1,0,0,0,0,1,1,1],\n",
    "  [1,1,1,0,0,0,0,1,1,1],\n",
    "  [1,1,1,1,1,1,1,1,1,1],\n",
    "  [0,1,1,1,1,1,1,1,1,0]\n",
    "])\n",
    "\n",
    "digit_9 = np.array([\n",
    "  [0,1,1,1,1,1,1,1,1,0],\n",
    "  [1,1,1,1,1,1,1,1,1,1],\n",
    "  [1,1,1,0,0,0,0,1,1,1],\n",
    "  [1,1,1,0,0,0,0,1,1,1],\n",
    "  [1,1,1,1,1,1,1,1,1,1],\n",
    "  [0,1,1,1,1,1,1,1,1,1],\n",
    "  [0,0,0,0,0,0,0,1,1,1],\n",
    "  [1,1,1,0,0,0,0,1,1,1],\n",
    "  [1,1,1,1,1,1,1,1,1,1],\n",
    "  [0,1,1,1,1,1,1,1,1,0]\n",
    "])\n",
    "\n",
    "digit_0 = -(digit_0 * 2 - 1)\n",
    "digit_1 = -(digit_1 * 2 - 1)\n",
    "digit_2 = -(digit_2 * 2 - 1)\n",
    "digit_3 = -(digit_3 * 2 - 1)\n",
    "digit_4 = -(digit_4 * 2 - 1)\n",
    "digit_5 = -(digit_5 * 2 - 1)\n",
    "digit_6 = -(digit_6 * 2 - 1)\n",
    "digit_7 = -(digit_7 * 2 - 1)\n",
    "digit_8 = -(digit_8 * 2 - 1)\n",
    "digit_9 = -(digit_9 * 2 - 1)\n",
    "\n",
    "plt.figure(figsize=(10, 3))  # Create a figure with appropriate size for subplots\n",
    "for i in range(10):\n",
    "    plt.subplot(1, 10, i+1)  # Adjust the number of subplots dynamically\n",
    "    plt.imshow(np.array(eval(f\"digit_{i}\")).reshape(10, 10), cmap='gray')  # Reshape to 9x8 for the letters\n",
    "    plt.title(f'digit {i}')  # Add the title for each subplot\n",
    "    plt.axis('off')  # Hide the axis for better display\n",
    "\n",
    "plt.tight_layout()  # Adjust spacing to avoid overlap\n",
    "plt.show()  # Show all subplots together"
   ]
  },
  {
   "cell_type": "markdown",
   "metadata": {},
   "source": [
    "### train Hopfild net\n"
   ]
  },
  {
   "cell_type": "code",
   "execution_count": 495,
   "metadata": {},
   "outputs": [
    {
     "name": "stdout",
     "output_type": "stream",
     "text": [
      "Original and Recalled Patterns for digit 0:\n"
     ]
    },
    {
     "data": {
      "image/png": "[encoded data removed]",
      "text/plain": [
       "<Figure size 1000x300 with 3 Axes>"
      ]
     },
     "metadata": {},
     "output_type": "display_data"
    },
    {
     "name": "stdout",
     "output_type": "stream",
     "text": [
      "Original and Recalled Patterns for digit 1:\n"
     ]
    },
    {
     "data": {
      "image/png": "[encoded data removed]",
      "text/plain": [
       "<Figure size 1000x300 with 3 Axes>"
      ]
     },
     "metadata": {},
     "output_type": "display_data"
    },
    {
     "name": "stdout",
     "output_type": "stream",
     "text": [
      "Original and Recalled Patterns for digit 2:\n"
     ]
    },
    {
     "data": {
      "image/png": "[encoded data removed]",
      "text/plain": [
       "<Figure size 1000x300 with 3 Axes>"
      ]
     },
     "metadata": {},
     "output_type": "display_data"
    },
    {
     "name": "stdout",
     "output_type": "stream",
     "text": [
      "Original and Recalled Patterns for digit 3:\n"
     ]
    },
    {
     "data": {
      "image/png": "[encoded data removed]",
      "text/plain": [
       "<Figure size 1000x300 with 3 Axes>"
      ]
     },
     "metadata": {},
     "output_type": "display_data"
    },
    {
     "name": "stdout",
     "output_type": "stream",
     "text": [
      "Original and Recalled Patterns for digit 4:\n"
     ]
    },
    {
     "data": {
      "image/png": "[encoded data removed]",
      "text/plain": [
       "<Figure size 1000x300 with 3 Axes>"
      ]
     },
     "metadata": {},
     "output_type": "display_data"
    },
    {
     "name": "stdout",
     "output_type": "stream",
     "text": [
      "Original and Recalled Patterns for digit 5:\n"
     ]
    },
    {
     "data": {
      "image/png": "[encoded data removed]",
      "text/plain": [
       "<Figure size 1000x300 with 3 Axes>"
      ]
     },
     "metadata": {},
     "output_type": "display_data"
    },
    {
     "name": "stdout",
     "output_type": "stream",
     "text": [
      "Original and Recalled Patterns for digit 6:\n"
     ]
    },
    {
     "data": {
      "image/png": "[encoded data removed]",
      "text/plain": [
       "<Figure size 1000x300 with 3 Axes>"
      ]
     },
     "metadata": {},
     "output_type": "display_data"
    },
    {
     "name": "stdout",
     "output_type": "stream",
     "text": [
      "Original and Recalled Patterns for digit 7:\n"
     ]
    },
    {
     "data": {
      "image/png": "[encoded data removed]",
      "text/plain": [
       "<Figure size 1000x300 with 3 Axes>"
      ]
     },
     "metadata": {},
     "output_type": "display_data"
    },
    {
     "name": "stdout",
     "output_type": "stream",
     "text": [
      "Original and Recalled Patterns for digit 8:\n"
     ]
    },
    {
     "data": {
      "image/png": "[encoded data removed]",
      "text/plain": [
       "<Figure size 1000x300 with 3 Axes>"
      ]
     },
     "metadata": {},
     "output_type": "display_data"
    },
    {
     "name": "stdout",
     "output_type": "stream",
     "text": [
      "Original and Recalled Patterns for digit 9:\n"
     ]
    },
    {
     "data": {
      "image/png": "[encoded data removed]",
      "text/plain": [
       "<Figure size 1000x300 with 3 Axes>"
      ]
     },
     "metadata": {},
     "output_type": "display_data"
    }
   ],
   "source": [
    "digits = []\n",
    "for i in range(10):\n",
    "    digits.append(eval(f'digit_{i}').flatten())\n",
    "\n",
    "num_neurons = digits[0].shape[0]\n",
    "hopfield_net = HopfieldNetwork(num_neurons=num_neurons)\n",
    "hopfield_net.train(digits)\n",
    "\n",
    "noisy_digits = []\n",
    "for i in range(10):\n",
    "    noisy_digits.append(hopfield_net.add_noise(digits[i], noise_level=0.0))\n",
    "\n",
    "recalled_digits = []\n",
    "for i in range(10):\n",
    "    recalled_digits.append(hopfield_net.recall(noisy_digits[i]))\n",
    "\n",
    "for i in range(10):\n",
    "    print(f\"Original and Recalled Patterns for digit {i}:\")\n",
    "    display_pattern([digits[i], noisy_digits[i], recalled_digits[i]], [\"Original\", \"Noisy\", \"Recalled\"], (10,10))\n"
   ]
  },
  {
   "cell_type": "markdown",
   "metadata": {},
   "source": [
    "## improve dataset"
   ]
  },
  {
   "cell_type": "code",
   "execution_count": 496,
   "metadata": {},
   "outputs": [
    {
     "data": {
      "image/png": "[encoded data removed]",
      "text/plain": [
       "<Figure size 1000x300 with 10 Axes>"
      ]
     },
     "metadata": {},
     "output_type": "display_data"
    }
   ],
   "source": [
    "digit_0 = np.array([\n",
    "  [0,0,0,1,1,1,1,1,1,1,1,0,0,0,0],\n",
    "  [0,0,1,1,1,1,1,1,1,1,1,1,0,0,0],\n",
    "  [0,1,1,1,1,0,0,0,1,1,1,1,1,0,0],\n",
    "  [1,1,1,1,0,0,0,0,0,1,1,1,1,1,0],\n",
    "  [1,1,1,0,0,0,0,0,0,0,1,1,1,1,0],\n",
    "  [1,1,0,0,0,0,0,0,0,0,0,1,1,1,1],\n",
    "  [1,1,0,0,0,0,0,0,0,0,0,1,1,1,1],\n",
    "  [1,1,0,0,0,0,0,0,0,0,0,1,1,1,1],\n",
    "  [1,1,0,0,0,0,0,0,0,0,0,1,1,1,1],\n",
    "  [1,1,0,0,0,0,0,0,0,0,0,1,1,1,1],\n",
    "  [1,1,1,0,0,0,0,0,0,0,1,1,1,1,0],\n",
    "  [1,1,1,1,0,0,0,0,0,1,1,1,1,1,0],\n",
    "  [0,1,1,1,1,0,0,0,1,1,1,1,1,0,0],\n",
    "  [0,0,1,1,1,1,1,1,1,1,1,1,0,0,0],\n",
    "  [0,0,0,1,1,1,1,1,1,1,1,0,0,0,0]\n",
    "])\n",
    "\n",
    "\n",
    "digit_1 = np.array([\n",
    "  [0,0,0,0,0,0,0,1,1,1,0,0,0,0,0],\n",
    "  [0,0,0,0,0,0,1,1,1,1,1,0,0,0,0],\n",
    "  [0,0,0,0,0,1,1,0,1,1,1,1,0,0,0],\n",
    "  [0,0,0,0,0,0,0,0,1,1,1,1,0,0,0],\n",
    "  [0,0,0,0,0,0,0,0,1,1,1,1,0,0,0],\n",
    "  [0,0,0,0,0,0,0,0,1,1,1,1,0,0,0],\n",
    "  [0,0,0,0,0,0,0,0,1,1,1,1,0,0,0],\n",
    "  [0,0,0,0,0,0,0,0,1,1,1,1,0,0,0],\n",
    "  [0,0,0,0,0,0,0,0,1,1,1,1,0,0,0],\n",
    "  [0,0,0,0,0,0,0,0,1,1,1,1,0,0,0],\n",
    "  [0,0,0,0,0,0,0,0,1,1,1,1,0,0,0],\n",
    "  [0,0,0,0,0,0,0,0,1,1,1,1,0,0,0],\n",
    "  [0,0,0,0,0,0,0,0,1,1,1,1,0,0,0],\n",
    "  [0,0,0,0,1,1,1,1,1,1,1,1,1,1,0],\n",
    "  [0,0,1,1,1,1,1,1,1,1,1,1,1,1,1]\n",
    "])\n",
    "\n",
    "\n",
    "\n",
    "digit_2 = np.array([\n",
    "  [0,0,0,0,1,1,1,1,1,1,1,1,1,0,0],\n",
    "  [0,0,1,1,1,1,1,1,1,1,1,1,1,1,0],\n",
    "  [1,1,1,1,0,0,0,0,0,1,1,1,1,1,0],\n",
    "  [1,1,0,0,0,0,0,0,0,0,1,1,1,1,0],\n",
    "  [0,0,0,0,0,0,0,0,1,1,1,1,1,1,0],\n",
    "  [0,0,0,0,0,0,0,1,1,1,1,1,0,0,0],\n",
    "  [0,0,0,0,0,0,1,1,1,1,0,0,0,0,0],\n",
    "  [0,0,0,0,0,1,1,1,0,0,0,0,0,0,0],\n",
    "  [0,0,0,0,1,1,1,0,0,0,0,0,0,0,0],\n",
    "  [0,0,0,1,1,1,0,0,0,0,0,0,0,0,0],\n",
    "  [0,0,1,1,1,1,0,0,0,0,0,0,0,0,0],\n",
    "  [0,1,1,1,1,1,1,1,1,1,1,1,1,1,0],\n",
    "  [1,1,1,1,1,1,1,1,1,1,1,1,1,1,0],\n",
    "  [0,0,0,0,0,0,0,0,0,0,0,0,0,0,0],\n",
    "  [0,0,0,0,0,0,0,0,0,0,0,0,0,0,0]\n",
    "])\n",
    "\n",
    "\n",
    "digit_3 = np.array([\n",
    "  [0,0,0,1,1,1,1,1,1,1,1,1,0,0,0],\n",
    "  [0,1,1,1,1,1,1,1,1,1,1,1,1,0,0],\n",
    "  [1,1,1,1,1,1,1,1,1,1,1,1,1,0,0],\n",
    "  [1,1,1,0,0,0,0,0,0,1,1,1,1,1,0],\n",
    "  [0,0,0,0,0,0,0,0,0,1,1,1,1,1,0],\n",
    "  [0,0,0,0,1,1,1,1,1,1,1,1,1,0,0],\n",
    "  [0,0,0,0,1,1,1,1,1,1,1,1,1,0,0],\n",
    "  [0,0,0,0,1,1,1,1,1,1,1,1,1,0,0],\n",
    "  [0,0,0,0,0,0,0,0,1,1,1,1,1,1,0],\n",
    "  [0,0,0,0,0,0,0,0,1,1,1,1,1,1,0],\n",
    "  [1,1,1,1,0,0,0,0,1,1,1,1,1,1,0],\n",
    "  [1,1,1,1,1,1,1,1,1,1,1,1,1,0,0],\n",
    "  [1,1,1,1,1,1,1,1,1,1,1,1,1,0,0],\n",
    "  [0,0,1,1,1,1,1,1,1,1,1,1,1,0,0],\n",
    "  [0,0,0,0,0,0,0,0,0,0,0,0,0,0,0]\n",
    "])\n",
    "\n",
    "digit_4 = np.array([\n",
    "  [0,0,0,0,0,1,1,1,1,1,1,1,1,0,0],\n",
    "  [0,0,0,0,1,1,1,1,1,1,1,1,1,0,0],\n",
    "  [0,0,0,1,1,1,1,1,0,0,1,1,1,0,0],\n",
    "  [0,0,1,1,1,1,0,0,0,0,1,1,1,0,0],\n",
    "  [0,1,1,1,1,0,0,0,0,0,1,1,1,0,0],\n",
    "  [1,1,1,1,0,0,0,0,0,0,1,1,1,0,0],\n",
    "  [1,1,1,0,0,0,0,0,0,0,1,1,1,0,0],\n",
    "  [1,1,1,1,1,1,1,1,1,1,1,1,1,1,0],\n",
    "  [1,1,1,1,1,1,1,1,1,1,1,1,1,1,0],\n",
    "  [1,1,1,1,1,1,1,1,1,1,1,1,1,0,0],\n",
    "  [0,0,0,0,0,0,0,0,0,0,1,1,1,0,0],\n",
    "  [0,0,0,0,0,0,0,0,0,0,1,1,1,0,0],\n",
    "  [0,0,0,0,0,0,0,0,0,0,1,1,1,0,0],\n",
    "  [0,0,0,0,0,0,0,0,0,0,1,1,1,0,0],\n",
    "  [0,0,0,0,0,0,0,0,0,0,1,1,1,0,0]\n",
    "])\n",
    "\n",
    "\n",
    "digit_5 = np.array([\n",
    "  [1,1,1,1,1,1,1,1,1,1,1,1,1,1,1],\n",
    "  [1,1,1,1,1,1,1,1,1,1,1,1,1,1,1],\n",
    "  [1,1,0,0,0,0,0,0,0,0,0,0,0,0,0],\n",
    "  [1,1,1,1,1,1,1,1,1,1,1,0,0,0,0],\n",
    "  [1,1,1,1,1,1,1,1,1,1,1,1,1,1,0],\n",
    "  [1,1,1,1,1,1,1,1,1,1,1,1,1,1,1],\n",
    "  [0,0,0,0,0,0,0,0,0,0,1,1,1,1,1],\n",
    "  [0,0,0,0,0,0,0,0,0,0,1,1,1,1,1],\n",
    "  [1,1,0,0,0,0,0,0,0,0,1,1,1,1,1],\n",
    "  [1,1,1,1,1,1,1,1,1,1,1,1,1,1,1],\n",
    "  [0,1,1,1,1,1,1,1,1,1,1,1,1,1,0],\n",
    "  [0,0,1,1,1,1,1,1,1,1,1,1,0,0,0],\n",
    "  [0,0,0,0,0,0,0,0,0,0,0,0,0,0,0],\n",
    "  [0,0,0,0,0,0,0,0,0,0,0,0,0,0,0],\n",
    "  [0,0,0,0,0,0,0,0,0,0,0,0,0,0,0]\n",
    "])\n",
    "\n",
    "\n",
    "digit_6 = np.array([\n",
    "  [0,0,0,0,0,1,1,1,1,1,1,1,0,0,0],\n",
    "  [0,0,0,1,1,1,1,1,1,1,1,1,1,0,0],\n",
    "  [0,0,1,1,1,1,1,1,1,1,1,1,1,0,0],\n",
    "  [0,1,1,1,1,0,0,0,0,0,0,0,0,0,0],\n",
    "  [0,1,1,1,0,0,0,0,0,0,0,0,0,0,0],\n",
    "  [1,1,1,1,0,0,0,0,0,0,0,0,0,0,0],\n",
    "  [1,1,1,1,1,1,1,1,1,1,1,1,1,1,0],\n",
    "  [1,1,1,1,1,1,1,1,1,1,1,1,1,1,0],\n",
    "  [1,1,1,0,0,0,0,0,0,0,0,1,1,1,0],\n",
    "  [1,1,1,0,0,0,0,0,0,0,0,1,1,1,0],\n",
    "  [1,1,1,0,0,0,0,0,0,0,0,1,1,1,0],\n",
    "  [1,1,1,1,0,0,0,0,0,0,0,1,1,1,0],\n",
    "  [1,1,1,1,1,0,0,0,0,0,1,1,1,0,0],\n",
    "  [0,1,1,1,1,1,1,1,1,1,1,1,0,0,0],\n",
    "  [0,0,1,1,1,1,1,1,1,1,1,0,0,0,0]\n",
    "])\n",
    "\n",
    "\n",
    "digit_7 = np.array([\n",
    "  [1,1,1,1,1,1,1,1,1,1,1,1,1,1,1],\n",
    "  [1,1,1,1,1,1,1,1,1,1,1,1,1,1,1],\n",
    "  [0,0,0,0,0,0,0,0,0,0,1,1,1,1,0],\n",
    "  [0,0,0,0,0,0,0,0,0,1,1,1,1,0,0],\n",
    "  [0,0,0,0,0,0,0,0,1,1,1,1,0,0,0],\n",
    "  [0,0,0,0,0,0,0,0,1,1,1,0,0,0,0],\n",
    "  [0,0,0,0,0,0,0,1,1,1,0,0,0,0,0],\n",
    "  [0,0,0,0,0,0,0,1,1,0,0,0,0,0,0],\n",
    "  [0,0,0,0,0,0,1,1,0,0,0,0,0,0,0],\n",
    "  [0,0,0,0,0,1,1,1,0,0,0,0,0,0,0],\n",
    "  [0,0,0,0,0,1,1,0,0,0,0,0,0,0,0],\n",
    "  [0,0,0,0,1,1,0,0,0,0,0,0,0,0,0],\n",
    "  [0,0,0,1,1,0,0,0,0,0,0,0,0,0,0],\n",
    "  [0,0,1,1,0,0,0,0,0,0,0,0,0,0,0],\n",
    "  [0,0,1,1,0,0,0,0,0,0,0,0,0,0,0]\n",
    "])\n",
    "\n",
    "\n",
    "digit_8 = np.array([\n",
    "  [0,0,0,0,1,1,1,1,1,1,1,0,0,0,0],\n",
    "  [0,0,1,1,1,1,1,1,1,1,1,1,1,0,0],\n",
    "  [0,1,1,1,1,1,0,0,1,1,1,1,1,0,0],\n",
    "  [0,1,1,1,1,0,0,0,0,1,1,1,1,0,0],\n",
    "  [0,1,1,1,1,0,0,0,0,1,1,1,1,0,0],\n",
    "  [0,1,1,1,1,1,0,0,1,1,1,1,1,0,0],\n",
    "  [0,0,1,1,1,1,1,1,1,1,1,1,0,0,0],\n",
    "  [0,0,1,1,1,1,1,1,1,1,1,1,0,0,0],\n",
    "  [0,1,1,1,1,1,1,1,1,1,1,1,1,0,0],\n",
    "  [0,1,1,1,1,0,0,0,0,0,1,1,1,0,0],\n",
    "  [0,1,1,1,1,0,0,0,0,0,1,1,1,0,0],\n",
    "  [0,1,1,1,1,1,0,0,0,1,1,1,1,0,0],\n",
    "  [0,1,1,1,1,1,1,1,1,1,1,1,1,0,0],\n",
    "  [0,0,1,1,1,1,1,1,1,1,1,1,1,0,0],\n",
    "  [0,0,0,1,1,1,1,1,1,1,1,0,0,0,0]\n",
    "])\n",
    "\n",
    "digit_9 = np.array([\n",
    "  [0,0,1,1,1,1,1,1,1,1,1,1,1,0,0],\n",
    "  [0,1,1,1,1,1,1,1,1,1,1,1,1,1,0],\n",
    "  [1,1,1,1,1,1,1,1,1,1,1,1,1,1,0],\n",
    "  [1,1,1,0,0,0,0,0,0,1,1,1,1,1,0],\n",
    "  [1,1,1,0,0,0,0,0,0,1,1,1,1,1,0],\n",
    "  [1,1,1,1,0,0,0,0,1,1,1,1,1,1,0],\n",
    "  [1,1,1,1,1,1,1,1,1,1,1,1,1,1,0],\n",
    "  [0,1,1,1,1,1,1,1,1,1,1,1,1,1,0],\n",
    "  [0,0,0,1,1,1,1,1,1,1,1,1,1,1,0],\n",
    "  [0,0,0,0,0,0,0,0,0,0,1,1,1,1,0],\n",
    "  [0,0,0,0,0,0,0,0,0,0,1,1,1,1,0],\n",
    "  [0,1,1,1,0,0,0,0,0,1,1,1,1,1,0],\n",
    "  [0,1,1,1,1,1,1,1,1,1,1,1,1,1,0],\n",
    "  [0,0,1,1,1,1,1,1,1,1,1,1,1,0,0],\n",
    "  [0,0,1,1,1,1,1,1,1,1,1,1,0,0,0]\n",
    "])\n",
    "\n",
    "digit_0 = -(digit_0 * 2 - 1)\n",
    "digit_1 = -(digit_1 * 2 - 1)\n",
    "digit_2 = -(digit_2 * 2 - 1)\n",
    "digit_3 = -(digit_3 * 2 - 1)\n",
    "digit_4 = -(digit_4 * 2 - 1)\n",
    "digit_5 = -(digit_5 * 2 - 1)\n",
    "digit_6 = -(digit_6 * 2 - 1)\n",
    "digit_7 = -(digit_7 * 2 - 1)\n",
    "digit_8 = -(digit_8 * 2 - 1)\n",
    "digit_9 = -(digit_9 * 2 - 1)\n",
    "\n",
    "plt.figure(figsize=(10, 3))  # Create a figure with appropriate size for subplots\n",
    "for i in range(10):\n",
    "    plt.subplot(1, 10, i+1)  # Adjust the number of subplots dynamically\n",
    "    plt.imshow(np.array(eval(f\"digit_{i}\")).reshape(15, 15), cmap='gray')  # Reshape to 9x8 for the letters\n",
    "    plt.title(f'digit {i}')  # Add the title for each subplot\n",
    "    plt.axis('off')  # Hide the axis for better display\n",
    "\n",
    "plt.tight_layout()  # Adjust spacing to avoid overlap\n",
    "plt.show()  # Show all subplots together"
   ]
  },
  {
   "cell_type": "code",
   "execution_count": 497,
   "metadata": {},
   "outputs": [
    {
     "name": "stdout",
     "output_type": "stream",
     "text": [
      "Original and Recalled Patterns for digit 0:\n"
     ]
    },
    {
     "data": {
      "image/png": "[encoded data removed]",
      "text/plain": [
       "<Figure size 1000x300 with 3 Axes>"
      ]
     },
     "metadata": {},
     "output_type": "display_data"
    },
    {
     "name": "stdout",
     "output_type": "stream",
     "text": [
      "Original and Recalled Patterns for digit 1:\n"
     ]
    },
    {
     "data": {
      "image/png": "[encoded data removed]",
      "text/plain": [
       "<Figure size 1000x300 with 3 Axes>"
      ]
     },
     "metadata": {},
     "output_type": "display_data"
    },
    {
     "name": "stdout",
     "output_type": "stream",
     "text": [
      "Original and Recalled Patterns for digit 2:\n"
     ]
    },
    {
     "data": {
      "image/png": "[encoded data removed]",
      "text/plain": [
       "<Figure size 1000x300 with 3 Axes>"
      ]
     },
     "metadata": {},
     "output_type": "display_data"
    },
    {
     "name": "stdout",
     "output_type": "stream",
     "text": [
      "Original and Recalled Patterns for digit 3:\n"
     ]
    },
    {
     "data": {
      "image/png": "[encoded data removed]",
      "text/plain": [
       "<Figure size 1000x300 with 3 Axes>"
      ]
     },
     "metadata": {},
     "output_type": "display_data"
    },
    {
     "name": "stdout",
     "output_type": "stream",
     "text": [
      "Original and Recalled Patterns for digit 4:\n"
     ]
    },
    {
     "data": {
      "image/png": "[encoded data removed]",
      "text/plain": [
       "<Figure size 1000x300 with 3 Axes>"
      ]
     },
     "metadata": {},
     "output_type": "display_data"
    },
    {
     "name": "stdout",
     "output_type": "stream",
     "text": [
      "Original and Recalled Patterns for digit 5:\n"
     ]
    },
    {
     "data": {
      "image/png": "[encoded data removed]",
      "text/plain": [
       "<Figure size 1000x300 with 3 Axes>"
      ]
     },
     "metadata": {},
     "output_type": "display_data"
    },
    {
     "name": "stdout",
     "output_type": "stream",
     "text": [
      "Original and Recalled Patterns for digit 6:\n"
     ]
    },
    {
     "data": {
      "image/png": "[encoded data removed]",
      "text/plain": [
       "<Figure size 1000x300 with 3 Axes>"
      ]
     },
     "metadata": {},
     "output_type": "display_data"
    },
    {
     "name": "stdout",
     "output_type": "stream",
     "text": [
      "Original and Recalled Patterns for digit 7:\n"
     ]
    },
    {
     "data": {
      "image/png": "[encoded data removed]",
      "text/plain": [
       "<Figure size 1000x300 with 3 Axes>"
      ]
     },
     "metadata": {},
     "output_type": "display_data"
    },
    {
     "name": "stdout",
     "output_type": "stream",
     "text": [
      "Original and Recalled Patterns for digit 8:\n"
     ]
    },
    {
     "data": {
      "image/png": "[encoded data removed]",
      "text/plain": [
       "<Figure size 1000x300 with 3 Axes>"
      ]
     },
     "metadata": {},
     "output_type": "display_data"
    },
    {
     "name": "stdout",
     "output_type": "stream",
     "text": [
      "Original and Recalled Patterns for digit 9:\n"
     ]
    },
    {
     "data": {
      "image/png": "[encoded data removed]",
      "text/plain": [
       "<Figure size 1000x300 with 3 Axes>"
      ]
     },
     "metadata": {},
     "output_type": "display_data"
    }
   ],
   "source": [
    "digits = []\n",
    "for i in range(10):\n",
    "    digits.append(eval(f'digit_{i}').flatten())\n",
    "\n",
    "num_neurons = digits[0].shape[0]\n",
    "hopfield_net = HopfieldNetwork(num_neurons=num_neurons)\n",
    "hopfield_net.train(digits)\n",
    "\n",
    "noisy_digits = []\n",
    "for i in range(10):\n",
    "    noisy_digits.append(hopfield_net.add_noise(digits[i], noise_level=0.0))\n",
    "\n",
    "recalled_digits = []\n",
    "for i in range(10):\n",
    "    recalled_digits.append(hopfield_net.recall(noisy_digits[i]))\n",
    "\n",
    "for i in range(10):\n",
    "    print(f\"Original and Recalled Patterns for digit {i}:\")\n",
    "    display_pattern([digits[i], noisy_digits[i], recalled_digits[i]], [\"Original\", \"Noisy\", \"Recalled\"], (15,15))\n"
   ]
  },
  {
   "cell_type": "markdown",
   "metadata": {},
   "source": [
    "# 5"
   ]
  },
  {
   "cell_type": "code",
   "execution_count": 498,
   "metadata": {},
   "outputs": [],
   "source": [
    "def create_letter_patterns():\n",
    "    # Letter 'ب' (B) - A 5x5 representation\n",
    "    letter_B = np.array([\n",
    "        [0,0,0,0,0,0,0,0],\n",
    "        [0,0,0,0,0,0,0,0],\n",
    "        [0,0,0,0,0,0,0,0],\n",
    "        [1,0,0,0,0,0,0,1],\n",
    "        [1,1,1,1,1,1,1,1],\n",
    "        [0,0,0,0,0,0,0,0],\n",
    "        [0,0,0,0,1,0,0,0],\n",
    "        [0,0,0,0,0,0,0,0],\n",
    "        [0,0,0,0,0,0,0,0]\n",
    "    ])\n",
    "\n",
    "    # Letter 'د' (D) - A 5x5 representation\n",
    "    letter_D = np.array([\n",
    "        [0,0,0,0,0,0,0,0],\n",
    "        [0,0,0,1,1,0,0,0],\n",
    "        [0,0,0,0,1,1,0,0],\n",
    "        [0,0,0,0,0,1,1,0],\n",
    "        [0,0,0,0,0,0,1,1],\n",
    "        [0,0,0,0,0,1,1,0],\n",
    "        [0,0,0,0,1,1,0,0],\n",
    "        [0,0,0,1,1,0,0,0],\n",
    "        [0,0,0,0,0,0,0,0]\n",
    "    ])\n",
    "\n",
    "    # Letter 'ک' (K) - A 5x5 representation\n",
    "    letter_K = np.array([\n",
    "        [0,0,0,0,0,0,0,1],\n",
    "        [0,0,0,0,0,0,1,0],\n",
    "        [0,0,0,0,0,1,0,0],\n",
    "        [0,0,0,0,1,0,0,0],\n",
    "        [0,0,0,0,1,0,0,0],\n",
    "        [0,0,0,0,1,0,0,0],\n",
    "        [0,0,0,0,1,0,0,0],\n",
    "        [1,0,0,0,1,0,0,0],\n",
    "        [1,1,1,1,1,0,0,0]\n",
    "        \n",
    "\n",
    "    ])\n",
    "\n",
    "    letter_g = np.array([\n",
    "        [0,0,0,0,0,0,0,0],\n",
    "        [0,0,0,0,0,0,0,0],\n",
    "        [0,0,0,0,0,0,0,0],\n",
    "        [1,0,0,0,0,0,0,1],\n",
    "        [1,1,1,1,1,1,1,1],\n",
    "        [0,0,0,0,0,0,0,0],\n",
    "        [0,0,0,1,1,0,0,0],\n",
    "        [0,0,0,1,0,0,0,0],\n",
    "        [0,0,0,0,0,0,0,0]\n",
    "    ])\n",
    "\n",
    "    letter_p = np.array([\n",
    "        [0,0,0,0,1,0,0,1],\n",
    "        [0,0,0,1,0,0,1,0],\n",
    "        [0,0,0,0,0,1,0,0],\n",
    "        [0,0,0,0,1,0,0,0],\n",
    "        [0,0,0,0,1,0,0,0],\n",
    "        [0,0,0,0,1,0,0,0],\n",
    "        [0,0,0,0,1,0,0,0],\n",
    "        [1,0,0,0,1,0,0,0],\n",
    "        [1,1,1,1,1,0,0,0]\n",
    "    ])\n",
    "\n",
    "    # Convert to bipolar (-1, 1)\n",
    "    letter_B = letter_B * 2 - 1\n",
    "    letter_D = letter_D * 2 - 1\n",
    "    letter_K = letter_K * 2 - 1\n",
    "    letter_g = letter_g * 2 - 1\n",
    "    letter_p = letter_p * 2 - 1\n",
    "\n",
    "    return list(letter_B.flatten()), list(letter_D.flatten()), list(letter_K.flatten()), list(letter_g.flatten()), list(letter_p.flatten())"
   ]
  },
  {
   "cell_type": "code",
   "execution_count": 500,
   "metadata": {},
   "outputs": [
    {
     "name": "stdout",
     "output_type": "stream",
     "text": [
      "Accuracy of the network is 64.000000\n"
     ]
    },
    {
     "data": {
      "image/png": "[encoded data removed]",
      "text/plain": [
       "<Figure size 1000x1500 with 30 Axes>"
      ]
     },
     "metadata": {},
     "output_type": "display_data"
    }
   ],
   "source": [
    "def plot_images(images, title, no_i_x, no_i_y=3):\n",
    "    fig = plt.figure(figsize=(10, 15))\n",
    "    fig.suptitle(title)  # Updated to use suptitle instead of set_window_title\n",
    "    images = np.array(images).reshape(-1, 9, 8)\n",
    "    images = np.pad(images, ((0, 0), (1, 1), (1, 1)), 'constant', constant_values=-1)\n",
    "    for i in range(no_i_x):\n",
    "        for j in range(no_i_y):\n",
    "            ax = fig.add_subplot(no_i_x, no_i_y, no_i_x * j + (i + 1))\n",
    "            ax.matshow(images[no_i_x * j + i], cmap=\"gray\")\n",
    "            plt.xticks(np.array([]))\n",
    "            plt.yticks(np.array([]))\n",
    "\n",
    "            if j == 0 and i == 0:\n",
    "                ax.set_title(\"Real\")\n",
    "            elif j == 0 and i == 1:\n",
    "                ax.set_title(\"Distorted\")\n",
    "            elif j == 0 and i == 2:\n",
    "                ax.set_title(\"Reconstructed\")\n",
    "\n",
    "letter_B, letter_D, letter_K, letter_g, letter_p = create_letter_patterns()\n",
    "\n",
    "perfect_data = {\n",
    "    \"b\": letter_B,\n",
    "    \"d\": letter_D,\n",
    "    \"k\": letter_K,\n",
    "    \"g\": letter_g,\n",
    "    \"p\": letter_p\n",
    "}\n",
    "\n",
    "n_train = 3\n",
    "n_test = 100\n",
    "\n",
    "n_train_disp = 10\n",
    "distort = 0.1\n",
    "n_neurons = 9*8\n",
    "\n",
    "train_data = [np.array(d) for d in perfect_data.values()][:n_train]\n",
    "\n",
    "test_data = []\n",
    "for d in range(n_test):\n",
    "    r_i = np.random.randint(0, n_train)\n",
    "    base_pattern = np.array(train_data[r_i])\n",
    "    noise = 1 * (np.random.random(base_pattern.shape) > distort)\n",
    "    np.place(noise, noise == 0, -1)\n",
    "    noisy_pattern = np.multiply(base_pattern, noise)\n",
    "    test_data.append((base_pattern, noisy_pattern))\n",
    "\n",
    "def train(neu, training_data):\n",
    "    w = np.zeros([neu, neu])\n",
    "    for data in training_data:\n",
    "        w += np.outer(data, data)\n",
    "    for diag in range(neu):\n",
    "        w[diag][diag] = 0\n",
    "    return w\n",
    "\n",
    "def retrieve_pattern(weights, data, steps=10):\n",
    "    res = np.array(data)\n",
    "\n",
    "    for _ in range(steps):\n",
    "        for i in range(len(res)):\n",
    "            raw_v = np.dot(weights[i], res)\n",
    "            if raw_v > 0:\n",
    "                res[i] = 1\n",
    "            else:\n",
    "                res[i] = -1\n",
    "    return res\n",
    "\n",
    "def test(weights, testing_data):\n",
    "    success = 0.0\n",
    "\n",
    "    output_data = []\n",
    "\n",
    "    for data in testing_data:\n",
    "        true_data = data[0]\n",
    "        noisy_data = data[1]\n",
    "        predicted_data = retrieve_pattern(weights, noisy_data)\n",
    "        if np.array_equal(true_data, predicted_data):\n",
    "            success += 1.0\n",
    "        output_data.append([true_data, noisy_data, predicted_data])\n",
    "\n",
    "    return (success / len(testing_data)), output_data\n",
    "\n",
    "W = train(n_neurons, train_data)\n",
    "\n",
    "accuracy, op_imgs = test(W, test_data)\n",
    "\n",
    "print(\"Accuracy of the network is %f\" % (accuracy * 100))\n",
    "\n",
    "plot_images(op_imgs, \"Reconstructed Data\", n_train_disp)\n",
    "plt.show()\n"
   ]
  }
 ],
 "metadata": {
  "kernelspec": {
   "display_name": "ml",
   "language": "python",
   "name": "python3"
  },
  "language_info": {
   "codemirror_mode": {
    "name": "ipython",
    "version": 3
   },
   "file_extension": ".py",
   "mimetype": "text/x-python",
   "name": "python",
   "nbconvert_exporter": "python",
   "pygments_lexer": "ipython3",
   "version": "3.11.6"
  }
 },
 "nbformat": 4,
 "nbformat_minor": 2
}

{
 "cells": [
  {
   "cell_type": "code",
   "execution_count": null,
   "metadata": {},
   "outputs": [],
   "source": [
    "import torch\n",
    "import torch.nn as nn\n",
    "import torch.optim as optim\n"
   ]
  },
  {
   "cell_type": "code",
   "execution_count": 10,
   "metadata": {},
   "outputs": [],
   "source": [
    "def transfer_function(z):\n",
    "    numerator = -z**2 + 1.9 * z + 0.95\n",
    "    denominator = z**3 - 0.18 * z**2 + 0.08 * z - 0.08\n",
    "    return numerator / denominator"
   ]
  },
  {
   "cell_type": "code",
   "execution_count": 11,
   "metadata": {},
   "outputs": [],
   "source": [
    "def generate_delayed_data(data, delays):\n",
    "    delayed_data = []\n",
    "    for delay in delays:\n",
    "        padded_data = torch.cat([torch.zeros(delay), data[:-delay]])\n",
    "        delayed_data.append(padded_data)\n",
    "    return torch.stack(delayed_data, dim=1)\n"
   ]
  },
  {
   "cell_type": "code",
   "execution_count": 12,
   "metadata": {},
   "outputs": [],
   "source": [
    "# Example white noise input signal\n",
    "input_signal = torch.randn(100)\n",
    "input_delays = [1, 2]\n",
    "output_delays = [1, 2]\n",
    "\n",
    "# Generate delayed inputs and outputs\n",
    "input_data = generate_delayed_data(input_signal, input_delays)\n",
    "output_data = generate_delayed_data(transfer_function(input_signal), output_delays)\n"
   ]
  },
  {
   "cell_type": "code",
   "execution_count": null,
   "metadata": {},
   "outputs": [],
   "source": [
    "class StaticEstimator(nn.Module):\n",
    "    def __init__(self, input_dim, hidden_dim):\n",
    "        super(StaticEstimator, self).__init__()\n",
    "        self.fc1 = nn.Linear(input_dim, hidden_dim)\n",
    "        self.fc2 = nn.Linear(hidden_dim, 1)\n",
    "        self.activation = nn.Sigmoid()\n",
    "\n",
    "    def forward(self, x):\n",
    "        x = self.activation(self.fc1(x))\n",
    "        return self.fc2(x)\n",
    "\n",
    "# Initialize the model, loss, and optimizer\n",
    "model = StaticEstimator(input_dim=input_data.shape[1] + output_data.shape[1], hidden_dim=10)\n",
    "criterion = nn.MSELoss()\n",
    "optimizer = optim.Adam(model.parameters(), lr=0.01)\n",
    "\n",
    "# Prepare the data\n",
    "X = torch.cat([input_data, output_data], dim=1)\n",
    "y = transfer_function(input_signal).view(-1, 1)\n",
    "\n",
    "# Training loop\n",
    "num_epochs = 1000\n",
    "for epoch in range(num_epochs):\n",
    "    optimizer.zero_grad()\n",
    "    outputs = model(X)\n",
    "    loss = criterion(outputs, y)\n",
    "    loss.backward()\n",
    "    optimizer.step()\n",
    "\n",
    "    if epoch % 100 == 0:\n",
    "        print(f\"Epoch {epoch}, Loss: {loss.item()}\")\n"
   ]
  }
 ],
 "metadata": {
  "kernelspec": {
   "display_name": "ml2",
   "language": "python",
   "name": "python3"
  },
  "language_info": {
   "codemirror_mode": {
    "name": "ipython",
    "version": 3
   },
   "file_extension": ".py",
   "mimetype": "text/x-python",
   "name": "python",
   "nbconvert_exporter": "python",
   "pygments_lexer": "ipython3",
   "version": "3.11.6"
  }
 },
 "nbformat": 4,
 "nbformat_minor": 2
}

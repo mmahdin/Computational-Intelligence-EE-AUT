{
 "cells": [
  {
   "cell_type": "code",
   "execution_count": null,
   "metadata": {},
   "outputs": [],
   "source": [
    "import torch\n",
    "import torch.nn as nn\n",
    "import torch.optim as optim\n",
    "from torch.utils.data import DataLoader\n",
    "from torch.nn.utils.rnn import pad_sequence"
   ]
  },
  {
   "cell_type": "code",
   "execution_count": 28,
   "metadata": {},
   "outputs": [
    {
     "name": "stdout",
     "output_type": "stream",
     "text": [
      "3\n",
      "25000\n"
     ]
    }
   ],
   "source": [
    "import csv\n",
    "import numpy as np\n",
    "\n",
    "# Replace 'file.csv' with the path to your CSV file\n",
    "file_path = 'imdb_train.csv'\n",
    "\n",
    "# Initialize an empty list to store rows\n",
    "data = []\n",
    "\n",
    "# Open and read the CSV file\n",
    "with open(file_path, 'r') as file:\n",
    "    reader = csv.reader(file)\n",
    "    for row in reader:\n",
    "        data.append(row)\n",
    "\n",
    "data = data[1:]\n",
    "# Display the first few rows of data\n",
    "for row in data[:1]:  # Show the first 5 rows\n",
    "    print(len(row))\n",
    "\n",
    "print(len(data))"
   ]
  },
  {
   "cell_type": "code",
   "execution_count": null,
   "metadata": {},
   "outputs": [],
   "source": [
    "import pandas as pd\n",
    "import torch\n",
    "from torch.utils.data import Dataset, DataLoader\n",
    "\n",
    "# Custom dataset class\n",
    "class SentimentAnalysisDataset(Dataset):\n",
    "    def __init__(self, csv_file):\n",
    "        # Load data from CSV\n",
    "        self.data = pd.read_csv(csv_file)\n",
    "        \n",
    "    def __len__(self):\n",
    "        return len(self.data)\n",
    "\n",
    "    def __getitem__(self, idx):\n",
    "        # Get the row by index\n",
    "        review = self.data.loc[idx, 'review']\n",
    "        tokenized = eval(self.data.loc[idx, 'tokenized'])  # assuming tokenized is stored as a string of list\n",
    "        label = self.data.loc[idx, 'label']\n",
    "        \n",
    "        # Convert to tensor\n",
    "        tokenized_tensor = torch.tensor(tokenized, dtype=torch.long)\n",
    "        label_tensor = torch.tensor(label, dtype=torch.long)\n",
    "        \n",
    "        return tokenized_tensor, label_tensor\n",
    "\n",
    "# Collate function to pad sequences in each batch\n",
    "def collate_fn(batch):\n",
    "    # Separate tokenized sequences and labels\n",
    "    tokenized_sequences = [item[0] for item in batch]\n",
    "    labels = [item[1] for item in batch]\n",
    "    \n",
    "    # Pad sequences\n",
    "    padded_sequences = pad_sequence(tokenized_sequences, batch_first=True, padding_value=0)\n",
    "    \n",
    "    # Stack labels into a single tensor\n",
    "    labels = torch.stack(labels)\n",
    "    \n",
    "    return padded_sequences, labels\n",
    "\n",
    "# Paths to CSV files\n",
    "train_csv = 'imdb_train.csv'\n",
    "test_csv = 'imdb_test.csv'\n",
    "\n",
    "# Load datasets\n",
    "train_dataset = SentimentAnalysisDataset(train_csv)\n",
    "test_dataset = SentimentAnalysisDataset(test_csv)\n",
    "\n",
    "# Create data loaders\n",
    "batch_size = 32\n",
    "train_loader = DataLoader(train_dataset, batch_size=batch_size, shuffle=True, collate_fn=collate_fn)\n",
    "test_loader = DataLoader(test_dataset, batch_size=batch_size, shuffle=False, collate_fn=collate_fn)\n"
   ]
  },
  {
   "cell_type": "code",
   "execution_count": 30,
   "metadata": {},
   "outputs": [
    {
     "name": "stdout",
     "output_type": "stream",
     "text": [
      "Tokenized Text: torch.Size([218])\n",
      "Label: tensor(1)\n"
     ]
    }
   ],
   "source": [
    "# Print one data row from the training dataset\n",
    "sample_index = 0  # Replace with any valid index to print a different row\n",
    "tokenized_tensor, label_tensor = train_dataset[sample_index]\n",
    "\n",
    "print(\"Tokenized Text:\", tokenized_tensor.shape)\n",
    "print(\"Label:\", label_tensor)"
   ]
  },
  {
   "cell_type": "code",
   "execution_count": null,
   "metadata": {},
   "outputs": [],
   "source": [
    "# Define the RNN model\n",
    "class SentimentRNN(nn.Module):\n",
    "    def __init__(self, vocab_size, embed_size, hidden_size, output_size, num_layers=1):\n",
    "        super(SentimentRNN, self).__init__()\n",
    "        self.embedding = nn.Embedding(vocab_size, embed_size)\n",
    "        self.rnn = nn.RNN(embed_size, hidden_size, num_layers, batch_first=True)\n",
    "        self.fc = nn.Linear(hidden_size, output_size)\n",
    "    \n",
    "    def forward(self, x):\n",
    "        x = self.embedding(x)\n",
    "        out, _ = self.rnn(x)\n",
    "        out = out[:, -1, :]  # Take the output from the last RNN cell\n",
    "        out = self.fc(out)\n",
    "        return out"
   ]
  },
  {
   "cell_type": "code",
   "execution_count": 36,
   "metadata": {},
   "outputs": [
    {
     "name": "stdout",
     "output_type": "stream",
     "text": [
      "88585\n"
     ]
    }
   ],
   "source": [
    "from collections import Counter\n",
    "import pandas as pd\n",
    "\n",
    "# Load the training dataset\n",
    "train_csv = 'imdb_train.csv'  # Replace with actual path\n",
    "train_data = pd.read_csv(train_csv)\n",
    "\n",
    "# Count unique tokens in the 'tokenized' column\n",
    "# Assuming 'tokenized' column contains lists of tokens as strings, e.g., \"[1, 23, 456]\"\n",
    "all_tokens = []\n",
    "for tokens in train_data['tokenized']:\n",
    "    token_list = eval(tokens)  # Convert the string representation to a list\n",
    "    all_tokens.extend(token_list)\n",
    "\n",
    "# Calculate the vocabulary size\n",
    "vocab_size = len(set(all_tokens))\n",
    "print(vocab_size)"
   ]
  },
  {
   "cell_type": "code",
   "execution_count": 37,
   "metadata": {},
   "outputs": [
    {
     "name": "stdout",
     "output_type": "stream",
     "text": [
      "Maximum Sequence Length: 2494\n"
     ]
    }
   ],
   "source": [
    "# Load the training dataset\n",
    "train_csv = 'imdb_train.csv'  # Replace with actual path\n",
    "train_data = pd.read_csv(train_csv)\n",
    "\n",
    "# Find the maximum sequence length in the 'tokenized' column\n",
    "# Assuming 'tokenized' column contains lists of tokens as strings, e.g., \"[1, 23, 456]\"\n",
    "max_seq_length = max(len(eval(tokens)) for tokens in train_data['tokenized'])\n",
    "print(\"Maximum Sequence Length:\", max_seq_length)"
   ]
  },
  {
   "cell_type": "code",
   "execution_count": null,
   "metadata": {},
   "outputs": [],
   "source": [
    "# Parameters\n",
    "vocab_size = 88585     # Adjust based on vocabulary size\n",
    "embed_size = 128      # Size of the embedding layer\n",
    "hidden_size = 2494      # Size of RNN hidden state\n",
    "output_size = 2       # Number of output classes (e.g., positive and negative)\n",
    "num_layers = 1        # Number of RNN layers\n",
    "num_epochs = 5        # Number of epochs\n",
    "learning_rate = 0.001 # Learning rate\n",
    "\n",
    "# Initialize model, loss function, and optimizer\n",
    "model = SentimentRNN(vocab_size, embed_size, hidden_size, output_size, num_layers)\n",
    "criterion = nn.CrossEntropyLoss()\n",
    "optimizer = optim.Adam(model.parameters(), lr=learning_rate)\n",
    "\n",
    "# Training loop\n",
    "for epoch in range(num_epochs):\n",
    "    for tokenized_tensor, label_tensor in train_loader:\n",
    "        # Move tensors to the appropriate device if using GPU\n",
    "        tokenized_tensor = tokenized_tensor\n",
    "        label_tensor = label_tensor\n",
    "        \n",
    "        # Forward pass\n",
    "        outputs = model(tokenized_tensor)\n",
    "        loss = criterion(outputs, label_tensor)\n",
    "        \n",
    "        # Backward and optimize\n",
    "        optimizer.zero_grad()\n",
    "        loss.backward()\n",
    "        optimizer.step()\n",
    "    \n",
    "    print(f'Epoch [{epoch+1}/{num_epochs}], Loss: {loss.item():.4f}')\n",
    "\n",
    "# Evaluation\n",
    "model.eval()  # Set the model to evaluation mode\n",
    "with torch.no_grad():\n",
    "    correct = 0\n",
    "    total = 0\n",
    "    for tokenized_tensor, label_tensor in test_loader:\n",
    "        outputs = model(tokenized_tensor)\n",
    "        _, predicted = torch.max(outputs.data, 1)\n",
    "        total += label_tensor.size(0)\n",
    "        correct += (predicted == label_tensor).sum().item()\n",
    "\n",
    "    print(f'Accuracy of the model on the test data: {100 * correct / total:.2f}%')"
   ]
  }
 ],
 "metadata": {
  "kernelspec": {
   "display_name": "ml2",
   "language": "python",
   "name": "python3"
  },
  "language_info": {
   "codemirror_mode": {
    "name": "ipython",
    "version": 3
   },
   "file_extension": ".py",
   "mimetype": "text/x-python",
   "name": "python",
   "nbconvert_exporter": "python",
   "pygments_lexer": "ipython3",
   "version": "3.11.6"
  }
 },
 "nbformat": 4,
 "nbformat_minor": 2
}
